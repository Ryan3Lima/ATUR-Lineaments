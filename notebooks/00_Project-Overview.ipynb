{
 "cells": [
  {
   "cell_type": "markdown",
   "id": "0cd64b4c-6f90-4ce2-85c9-049058762f85",
   "metadata": {
    "tags": [],
    "user_expressions": []
   },
   "source": [
    "---\n",
    "title: 00 Project Overview\n",
    "description: Description of the Project\n",
    "authors:\n",
    "  - name: Ryan E Lima\n",
    "    orcid: 0000-0002-5352-7215\n",
    "---"
   ]
  },
  {
   "cell_type": "markdown",
   "id": "96cd123b-e010-4778-9afa-9ca125ef50cc",
   "metadata": {
    "tags": [],
    "user_expressions": []
   },
   "source": [
    "Project description\n"
   ]
  },
  {
   "cell_type": "markdown",
   "id": "4f8e5259-5be3-46e9-abfa-b73c11a53ec2",
   "metadata": {},
   "source": [
    "Resources\n",
    "\n",
    "* Manual Lineament Extraction in Arcmap [youtube](https://www.youtube.com/watch?v=xcEBR8B9Bz4)"
   ]
  }
 ],
 "metadata": {
  "kernelspec": {
   "display_name": "Python [conda env:DEM_processing]",
   "language": "python",
   "name": "conda-env-DEM_processing-py"
  },
  "language_info": {
   "codemirror_mode": {
    "name": "ipython",
    "version": 3
   },
   "file_extension": ".py",
   "mimetype": "text/x-python",
   "name": "python",
   "nbconvert_exporter": "python",
   "pygments_lexer": "ipython3",
   "version": "3.9.19"
  }
 },
 "nbformat": 4,
 "nbformat_minor": 5
}
