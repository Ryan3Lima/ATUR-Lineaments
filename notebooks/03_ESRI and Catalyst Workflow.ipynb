{
 "cells": [
  {
   "cell_type": "raw",
   "id": "8cc0c771-cbf4-4efd-b9db-fe130495518e",
   "metadata": {},
   "source": [
    "---\n",
    "title: 03 Esri and Catalyst Workflow\n",
    "description: Extracting Lineaments using Catalyst LINE algorithm and ArcGIS Pro\n",
    "authors:\n",
    "  - name: Ryan E Lima\n",
    "    orcid: 0000-0002-5352-7215\n",
    "---"
   ]
  },
  {
   "cell_type": "markdown",
   "id": "2ace132c-d221-4f39-9ce9-71401d244436",
   "metadata": {},
   "source": [
    "### 1.  Import DEM into ArcGIS Pro (1m resolution, Lidar-derived) = `DEM_Raw`\n",
    "\n",
    "**_Study Area_** \n",
    "\n",
    "`USGS_1M_12_x50y381_AZ_USFS_3DEP_Processing_2019_D20.tif` = `DEM_raw`\n",
    "\n",
    "![](Images/Load_DEM_step_1.PNG)"
   ]
  },
  {
   "cell_type": "markdown",
   "id": "e3fb4f6e-5f2b-4a90-a6c0-6f04fe3b66ec",
   "metadata": {},
   "source": [
    "### 2. use 'Focal Statistics' to calculate the mean raster using a circular window and a 20m window = `MeanC20`\n",
    "\n",
    "**Calculate Topographic Position Index**\n",
    "\n",
    "   * `C` refers to the Circular window used in focal statistics\n",
    "   * `20` is the window size in cells (*also meters in this case)\n",
    "\n",
    "![](Images/Focal_statistics_step_2.PNG)"
   ]
  },
  {
   "cell_type": "markdown",
   "id": "71a27272-078a-4659-a864-de2b7190bdea",
   "metadata": {},
   "source": [
    "### 3. Calculate TPI or topographic position index using `Raster Calculator` by subtracting the Mean raster from the DEM_Raw\n",
    "\n",
    "   `TPI_C20 = DEM_Raw - MeanC20` \n",
    "\n",
    "![](Images/Calculate_TPI_Step3.PNG)"
   ]
  },
  {
   "cell_type": "markdown",
   "id": "ce376ee6-f516-4d1a-b77c-4a4d52a694ea",
   "metadata": {},
   "source": [
    "\n",
    "### 4. Export the TPI raster as a RGB  .TIFF\n",
    "\n",
    "\n",
    "* Make sure the Symbology for the TPI_C20 is Stretch, and the stretch type is `Histogram Equalize`\n",
    "\n",
    "* Right click on `TPI_C20` > Data > Export Raster\n",
    "\n",
    "  > Do Not Force RGB\n",
    "  \n",
    "  > All other defaults should be good\n",
    "\n",
    "![](Images/Export_TPI_hist_equalize.PNG)"
   ]
  },
  {
   "cell_type": "markdown",
   "id": "cc68ae3c-59c9-46dd-b11a-bd55c2a1bc40",
   "metadata": {},
   "source": [
    "### 5. Import the TPI raster to Catalyst - Focus Module\n",
    "\n",
    "**Extract Lineaments**\n",
    "\n",
    "> Select the TPI image, then go to `tools` > `Algorithm Librarian` > `LINE`\n",
    "\n",
    "> Use the Following Paramters:\n",
    "\n",
    "> **RADI:** Filter Radius = 15 pixels\n",
    "\n",
    "> **GTHR:** Edge Gradient Threshold      75     brightness  0-255\n",
    "\n",
    "> **FTHR:** Line Fitting Threshold       2      pixels\n",
    "   \n",
    "> **LTHR:** Curve Length Threshold       45     pixels\n",
    "       \n",
    "> **ATHR:** Angular Difference Threshold 20     degrees\n",
    "         \n",
    "> **DTHR:** Linking Distance Threshold   25     pixels            \n",
    "\n",
    "![](Images/RunLineModule_Catalyst.PNG)"
   ]
  },
  {
   "cell_type": "markdown",
   "id": "baf84e0a-9658-49fc-8f5c-8d4062b95bab",
   "metadata": {},
   "source": [
    "### 6. Export the lineaments Shapefile from Catalyst\n",
    "\n",
    "* Click on the Lineament you just created in the Maps pane, Click `Save As`, specify a location for the output\n",
    "  \n",
    "  > My file location and name: `C:\\Users\\rl587\\GIS_Projects\\ATUR-Lineaments\\TPI_C20_LineamentsPCI.shp`\n",
    "  \n",
    "  > Format : ArcView Shapefile (.shp)\n",
    "\n",
    "![](Images/Save_lineaments_shapefile.PNG)"
   ]
  },
  {
   "cell_type": "markdown",
   "id": "27b50207-f25a-4ee7-9bf9-d85306269de4",
   "metadata": {},
   "source": [
    "## Create a Roads and streams buffer, remove lineaments within Buffer\n",
    "\n",
    "### 7. Open the Lineaments shapefile in ArcGIS Pro\n",
    "\n",
    "![](Images/Load_Lineaments_shapefile_ArcGISPro.PNG)\n",
    "\n",
    "Roads are man-made lineaments and streams while they create natural lineaments we are more interested with the shape and orientation of the valley they are in rather than the stream channel itself, creating a buffer around them will allow the valley shape and orientation to be captured without creating an issue where drainage density is too positively correlated with lineament density since we want those two variables to capture different things.\n",
    "\n",
    "> Roads layers were taken from the National Mamp - MapServer: carto.nationalmap.gov.ags > transportation > Large and Medium Scale > Features > layers = Closed Roads, 4WD Roads, Local Roads}\n",
    "\n",
    "> All road layers clipped to study area and merged = `Roads_all`\n",
    "\n",
    "> Stream channels taken from NHD flowlines large-scale, clipped to Study area = `Flowlines`\n",
    "\n",
    "![](Images/Roads_flowlines.PNG)"
   ]
  },
  {
   "cell_type": "markdown",
   "id": "b1fbd089-1b80-460c-9fa0-3f96894f95e9",
   "metadata": {},
   "source": [
    "### 8. 15m buffer applied to `Flowlines` = `Stream_buffer15`\n",
    "> use `Pairwise Buffer` tool\n",
    ">\n",
    ">  **_Tool Paramters_**\n",
    "\n",
    "> * Input Features: `Flowlines`\n",
    "\n",
    "> * Output Feature Class: `FlowlinesBuff15`\n",
    "\n",
    "> * Distance (value or field) : `Linear Unit`\n",
    "\n",
    "> * `15` and  `Meters`\n",
    "\n",
    "> * Method: `Planar`\n",
    "\n",
    "> * Dissolve Type: `Dissolve all output features into a single feature`\n",
    "\n",
    "### 9.  15m buffer applied to `Roads_all` = `Roads_buffer15`\n",
    "\n",
    "> Repeat steps above for Roads, same parameters \n",
    "\n",
    "![](Images/Pairwise_buffer_roads.PNG)"
   ]
  },
  {
   "cell_type": "markdown",
   "id": "2adc9634-7735-42e9-b83d-2100d0123f15",
   "metadata": {},
   "source": [
    "### 10. Merge Buffers\n",
    "\n",
    "* Use the Merge tool to merge `Stream_buffer15` and `Roads_buffer_15` = `Exclude_lineaments_buff15`\n",
    "\n",
    "![](Images/Merge_buffers.PNG)"
   ]
  },
  {
   "cell_type": "markdown",
   "id": "8ade5775-39af-4339-a07a-136531bac3c0",
   "metadata": {},
   "source": [
    "### 11. Select lineaments within buffers\n",
    "\n",
    "* Used select by Location, `TPI_C20_LineamentsPCI` intersecting with `Exclude_lineaments_buff15`\n",
    "\n",
    "![](Images/Select_lineaments_in_buffer.PNG)\n",
    "\n",
    "### 12. Delete Lineaements within buffers\n",
    "\n",
    "*  Open attribute table and `delete selected`\n",
    "  \n",
    "![](Images/Delete_selected.PNG)\n",
    "\n",
    "### 13. Finished Result:\n",
    "\n",
    "![](Images/Result.PNG)"
   ]
  },
  {
   "cell_type": "markdown",
   "id": "c1765561-1d8a-4ed1-a4ce-4156c8207229",
   "metadata": {},
   "source": [
    "## To Do List \n",
    "\n",
    "- Test in Lake Mary area\n",
    "- Test on another study area\n",
    "- create esri functions for buffer\n",
    "- Paramterize buffer\n",
    "- Justify buffer\n",
    "- Justify using TPI\n",
    "- Attempt to paramterize TPI in Python\n",
    "- Attempt to improve on LINE algorithm in Python "
   ]
  },
  {
   "cell_type": "code",
   "execution_count": null,
   "id": "7e494cbd-d15c-4ddf-84e6-5ac81742e2f1",
   "metadata": {},
   "outputs": [],
   "source": []
  }
 ],
 "metadata": {
  "kernelspec": {
   "display_name": "Python 3 (ipykernel)",
   "language": "python",
   "name": "python3"
  },
  "language_info": {
   "codemirror_mode": {
    "name": "ipython",
    "version": 3
   },
   "file_extension": ".py",
   "mimetype": "text/x-python",
   "name": "python",
   "nbconvert_exporter": "python",
   "pygments_lexer": "ipython3",
   "version": "3.9.20"
  }
 },
 "nbformat": 4,
 "nbformat_minor": 5
}
